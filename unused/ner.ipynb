{
 "cells": [
  {
   "cell_type": "code",
   "execution_count": 1,
   "metadata": {},
   "outputs": [
    {
     "name": "stderr",
     "output_type": "stream",
     "text": [
      "/Users/kaylahuang/opt/anaconda3/envs/mercor/lib/python3.12/site-packages/huggingface_hub/file_download.py:1132: FutureWarning: `resume_download` is deprecated and will be removed in version 1.0.0. Downloads always resume when possible. If you want to force a new download, use `force_download=True`.\n",
      "  warnings.warn(\n"
     ]
    },
    {
     "data": {
      "application/vnd.jupyter.widget-view+json": {
       "model_id": "dfc4aa495cd64fd2956bce7495b9bb84",
       "version_major": 2,
       "version_minor": 0
      },
      "text/plain": [
       "tokenizer_config.json:   0%|          | 0.00/1.51k [00:00<?, ?B/s]"
      ]
     },
     "metadata": {},
     "output_type": "display_data"
    },
    {
     "data": {
      "application/vnd.jupyter.widget-view+json": {
       "model_id": "a6d5d59778c34a6e99cbe299f489ce91",
       "version_major": 2,
       "version_minor": 0
      },
      "text/plain": [
       "vocab.json:   0%|          | 0.00/798k [00:00<?, ?B/s]"
      ]
     },
     "metadata": {},
     "output_type": "display_data"
    },
    {
     "data": {
      "application/vnd.jupyter.widget-view+json": {
       "model_id": "fce711f87f5d44d48bcf43f963c08e3e",
       "version_major": 2,
       "version_minor": 0
      },
      "text/plain": [
       "merges.txt:   0%|          | 0.00/456k [00:00<?, ?B/s]"
      ]
     },
     "metadata": {},
     "output_type": "display_data"
    },
    {
     "data": {
      "application/vnd.jupyter.widget-view+json": {
       "model_id": "857edb002533403da127bfec0f425357",
       "version_major": 2,
       "version_minor": 0
      },
      "text/plain": [
       "tokenizer.json:   0%|          | 0.00/2.11M [00:00<?, ?B/s]"
      ]
     },
     "metadata": {},
     "output_type": "display_data"
    },
    {
     "data": {
      "application/vnd.jupyter.widget-view+json": {
       "model_id": "fed46334807949bd90ace69cc7712105",
       "version_major": 2,
       "version_minor": 0
      },
      "text/plain": [
       "special_tokens_map.json:   0%|          | 0.00/280 [00:00<?, ?B/s]"
      ]
     },
     "metadata": {},
     "output_type": "display_data"
    },
    {
     "data": {
      "application/vnd.jupyter.widget-view+json": {
       "model_id": "b0d96a6140a14f9dbb72c556c586c777",
       "version_major": 2,
       "version_minor": 0
      },
      "text/plain": [
       "config.json:   0%|          | 0.00/2.77k [00:00<?, ?B/s]"
      ]
     },
     "metadata": {},
     "output_type": "display_data"
    },
    {
     "data": {
      "application/vnd.jupyter.widget-view+json": {
       "model_id": "93e4f6db4a24475ca277f351219ea267",
       "version_major": 2,
       "version_minor": 0
      },
      "text/plain": [
       "model.safetensors:   0%|          | 0.00/496M [00:00<?, ?B/s]"
      ]
     },
     "metadata": {},
     "output_type": "display_data"
    }
   ],
   "source": [
    "from transformers import AutoTokenizer, AutoModelForTokenClassification\n",
    "from transformers import pipeline\n",
    "\n",
    "# Load the tokenizer and model\n",
    "tokenizer = AutoTokenizer.from_pretrained(\"mrm8488/codebert-base-finetuned-code-ner\")\n",
    "model = AutoModelForTokenClassification.from_pretrained(\"mrm8488/codebert-base-finetuned-code-ner\")\n"
   ]
  },
  {
   "cell_type": "code",
   "execution_count": null,
   "metadata": {},
   "outputs": [],
   "source": [
    "\n",
    "# Create a NER pipeline\n",
    "ner_pipeline = pipeline(\"ner\", model=model, tokenizer=tokenizer, aggregation_strategy=\"simple\")\n",
    "\n",
    "# Example code snippet\n",
    "code_snippet = \"\"\"\n",
    "def calculate_average(numbers):\n",
    "    total = sum(numbers)\n",
    "    count = len(numbers)\n",
    "    return total / count if count > 0 else 0\n",
    "\n",
    "result = calculate_average([1, 2, 3, 4, 5])\n",
    "print(f\"The average is: {result}\")\n",
    "\"\"\"\n",
    "\n",
    "# Perform NER on the code snippet\n",
    "ner_results = ner_pipeline(code_snippet)\n",
    "\n",
    "# Process and print the results\n",
    "for entity in ner_results:\n",
    "    print(f\"Entity: {entity['word']}, Label: {entity['entity_group']}, Score: {entity['score']:.4f}\")\n",
    "\n",
    "# Function to highlight entities in the code\n",
    "def highlight_entities(code, entities):\n",
    "    highlighted = code\n",
    "    offset = 0\n",
    "    for entity in sorted(entities, key=lambda x: x['start'], reverse=True):\n",
    "        start = entity['start'] + offset\n",
    "        end = entity['end'] + offset\n",
    "        label = entity['entity_group']\n",
    "        highlighted = highlighted[:start] + f\"[{label}]{highlighted[start:end]}[/{label}]\" + highlighted[end:]\n",
    "        offset += len(label) * 2 + 5  # Adjust for the added characters\n",
    "\n",
    "    return highlighted\n",
    "\n",
    "# Highlight entities in the code\n",
    "highlighted_code = highlight_entities(code_snippet, ner_results)\n",
    "print(\"\\nHighlighted Code:\")\n",
    "print(highlighted_code)\n",
    "\n",
    "# Example of using the model for a specific task: Extracting function names\n",
    "def extract_function_names(code):\n",
    "    ner_results = ner_pipeline(code)\n",
    "    function_names = [entity['word'] for entity in ner_results if entity['entity_group'] == 'method']\n",
    "    return function_names\n",
    "\n",
    "# Extract function names from the code snippet\n",
    "functions = extract_function_names(code_snippet)\n",
    "print(\"\\nExtracted Function Names:\")\n",
    "print(functions)"
   ]
  }
 ],
 "metadata": {
  "kernelspec": {
   "display_name": "mercor",
   "language": "python",
   "name": "python3"
  },
  "language_info": {
   "codemirror_mode": {
    "name": "ipython",
    "version": 3
   },
   "file_extension": ".py",
   "mimetype": "text/x-python",
   "name": "python",
   "nbconvert_exporter": "python",
   "pygments_lexer": "ipython3",
   "version": "3.12.4"
  }
 },
 "nbformat": 4,
 "nbformat_minor": 2
}
