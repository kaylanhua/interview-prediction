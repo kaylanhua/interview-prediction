{
 "cells": [
  {
   "cell_type": "code",
   "execution_count": null,
   "metadata": {},
   "outputs": [
    {
     "ename": "",
     "evalue": "",
     "output_type": "error",
     "traceback": [
      "\u001b[1;31mFailed to start the Kernel 'mercor (Python 3.12.4)'. \n",
      "\u001b[1;31mView Jupyter <a href='command:jupyter.viewOutput'>log</a> for further details. listen EMFILE: too many open files 0.0.0.0:9000"
     ]
    }
   ],
   "source": [
    "from langchain import PromptTemplate, LLMChain\n",
    "from langchain.chat_models import ChatOpenAI\n",
    "from langchain.output_parsers import StructuredOutputParser, ResponseSchema\n",
    "from typing import Dict, Tuple\n",
    "\n",
    "# Make sure to set your OpenAI API key in your environment variables\n",
    "# import os\n",
    "# os.environ[\"OPENAI_API_KEY\"] = \"your-api-key-here\"\n",
    "\n",
    "# Define the response schemas\n",
    "response_schemas = [\n",
    "    ResponseSchema(name=\"good_response\", description=\"A very good response that is accurate, complete, and demonstrates understanding.\"),\n",
    "    ResponseSchema(name=\"bad_response\", description=\"A very bad response that is inaccurate, incomplete, and does not demonstrate understanding.\")\n",
    "]\n",
    "\n",
    "# Create the output parser\n",
    "output_parser = StructuredOutputParser.from_response_schemas(response_schemas)\n",
    "\n",
    "# Define the prompt template\n",
    "prompt_template = PromptTemplate(\n",
    "    input_variables=[\"question\"],\n",
    "    partial_variables={\"format_instructions\": output_parser.get_format_instructions()},\n",
    "    template=\"\"\"You are an expert in software development and computer science, capable of providing both excellent and intentionally poor explanations.\n",
    "\n",
    "Given the following technical question about software or coding:\n",
    "\n",
    "\"{question}\"\n",
    "\n",
    "Please provide two contrasting responses:\n",
    "\n",
    "1. A very good response that is accurate, complete, and helpful. It should demonstrate deep understanding of the topic and provide clear explanations without using any code.\n",
    "\n",
    "2. A very bad response that is inaccurate, incomplete, and unhelpful. It should be short, demonstrate a lack of understanding, and potentially contain misinformation. A bad response makes clear that the respondant doesn't understand the question or the concept.\n",
    "\n",
    "{format_instructions}\n",
    "\"\"\"\n",
    ")\n",
    "\n",
    "# Initialize the language model\n",
    "llm = ChatOpenAI(temperature=0.7)\n",
    "\n",
    "# Create the LLMChain\n",
    "chain = LLMChain(llm=llm, prompt=prompt_template)\n",
    "\n",
    "def generate_contrasting_responses(question: str) -> Tuple[str, str]:\n",
    "    \"\"\"\n",
    "    Generate a very good response and a very bad response to a technical question using LangChain.\n",
    "    \n",
    "    Args:\n",
    "    question (str): The technical question about software or coding.\n",
    "    \n",
    "    Returns:\n",
    "    Tuple[str, str]: A tuple containing (good_response, bad_response)\n",
    "    \"\"\"\n",
    "    # Generate the response\n",
    "    response = chain.run(question=question)\n",
    "    \n",
    "    # Parse the response\n",
    "    parsed_response = output_parser.parse(response)\n",
    "    \n",
    "    return parsed_response[\"good_response\"], parsed_response[\"bad_response\"]\n",
    "\n",
    "# Example usage\n",
    "questions = [\n",
    "    \"\"\n",
    "]\n",
    "\n",
    "for question in questions:\n",
    "    print(f\"Question: {question}\\n\")\n",
    "    good, bad = generate_contrasting_responses(question)\n",
    "    print(\"Good Response:\")\n",
    "    print(good)\n",
    "    print(\"\\nBad Response:\")\n",
    "    print(bad)\n",
    "    print(\"\\n\" + \"=\"*50 + \"\\n\")"
   ]
  },
  {
   "cell_type": "code",
   "execution_count": null,
   "metadata": {},
   "outputs": [],
   "source": []
  }
 ],
 "metadata": {
  "kernelspec": {
   "display_name": "mercor",
   "language": "python",
   "name": "python3"
  },
  "language_info": {
   "codemirror_mode": {
    "name": "ipython",
    "version": 3
   },
   "file_extension": ".py",
   "mimetype": "text/x-python",
   "name": "python",
   "nbconvert_exporter": "python",
   "pygments_lexer": "ipython3",
   "version": "3.12.4"
  }
 },
 "nbformat": 4,
 "nbformat_minor": 2
}
