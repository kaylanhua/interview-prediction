{
 "cells": [
  {
   "cell_type": "code",
   "execution_count": 1,
   "metadata": {},
   "outputs": [
    {
     "name": "stdout",
     "output_type": "stream",
     "text": [
      "OPENAI API KEY OBTAINED\n"
     ]
    },
    {
     "data": {
      "text/html": [
       "<div>\n",
       "<style scoped>\n",
       "    .dataframe tbody tr th:only-of-type {\n",
       "        vertical-align: middle;\n",
       "    }\n",
       "\n",
       "    .dataframe tbody tr th {\n",
       "        vertical-align: top;\n",
       "    }\n",
       "\n",
       "    .dataframe thead th {\n",
       "        text-align: right;\n",
       "    }\n",
       "</style>\n",
       "<table border=\"1\" class=\"dataframe\">\n",
       "  <thead>\n",
       "    <tr style=\"text-align: right;\">\n",
       "      <th></th>\n",
       "      <th>Unnamed: 0</th>\n",
       "      <th>Input Text</th>\n",
       "      <th>Label</th>\n",
       "      <th>Question</th>\n",
       "      <th>Response</th>\n",
       "    </tr>\n",
       "  </thead>\n",
       "  <tbody>\n",
       "    <tr>\n",
       "      <th>0</th>\n",
       "      <td>0</td>\n",
       "      <td>Interviewer: Your plan to implement smart extr...</td>\n",
       "      <td>3</td>\n",
       "      <td>Your plan to implement smart extraction of phr...</td>\n",
       "      <td>That's a very good question. So for dashboard ...</td>\n",
       "    </tr>\n",
       "    <tr>\n",
       "      <th>1</th>\n",
       "      <td>1</td>\n",
       "      <td>Interviewer: Given your emphasis on Logistic R...</td>\n",
       "      <td>2</td>\n",
       "      <td>Given your emphasis on Logistic Regression for...</td>\n",
       "      <td>Yeah, initially since we are at the correlatio...</td>\n",
       "    </tr>\n",
       "    <tr>\n",
       "      <th>2</th>\n",
       "      <td>2</td>\n",
       "      <td>Interviewer: That's a good approach to content...</td>\n",
       "      <td>4</td>\n",
       "      <td>That's a good approach to content filtering an...</td>\n",
       "      <td>In web scraping, I have faced multiple challen...</td>\n",
       "    </tr>\n",
       "    <tr>\n",
       "      <th>3</th>\n",
       "      <td>3</td>\n",
       "      <td>Interviewer: Training a Variational Autoencode...</td>\n",
       "      <td>2</td>\n",
       "      <td>Training a Variational Autoencoder (VAE) to ge...</td>\n",
       "      <td>You could fit a gaussian mixture model to the ...</td>\n",
       "    </tr>\n",
       "    <tr>\n",
       "      <th>4</th>\n",
       "      <td>4</td>\n",
       "      <td>Interviewer: Thanks for taking the time to int...</td>\n",
       "      <td>1</td>\n",
       "      <td>Thanks for taking the time to interview with u...</td>\n",
       "      <td></td>\n",
       "    </tr>\n",
       "  </tbody>\n",
       "</table>\n",
       "</div>"
      ],
      "text/plain": [
       "   Unnamed: 0                                         Input Text  Label  \\\n",
       "0           0  Interviewer: Your plan to implement smart extr...      3   \n",
       "1           1  Interviewer: Given your emphasis on Logistic R...      2   \n",
       "2           2  Interviewer: That's a good approach to content...      4   \n",
       "3           3  Interviewer: Training a Variational Autoencode...      2   \n",
       "4           4  Interviewer: Thanks for taking the time to int...      1   \n",
       "\n",
       "                                            Question  \\\n",
       "0  Your plan to implement smart extraction of phr...   \n",
       "1  Given your emphasis on Logistic Regression for...   \n",
       "2  That's a good approach to content filtering an...   \n",
       "3  Training a Variational Autoencoder (VAE) to ge...   \n",
       "4  Thanks for taking the time to interview with u...   \n",
       "\n",
       "                                            Response  \n",
       "0  That's a very good question. So for dashboard ...  \n",
       "1  Yeah, initially since we are at the correlatio...  \n",
       "2  In web scraping, I have faced multiple challen...  \n",
       "3  You could fit a gaussian mixture model to the ...  \n",
       "4                                                     "
      ]
     },
     "execution_count": 1,
     "metadata": {},
     "output_type": "execute_result"
    }
   ],
   "source": [
    "import pandas as pd\n",
    "from tagger import Tagger, ProcessData\n",
    "\n",
    "train = pd.read_csv('../data/train.csv')\n",
    "small = train[:10]\n",
    "small = pd.DataFrame(small)\n",
    "processor = ProcessData(small)\n",
    "baby = processor.split_df()\n",
    "baby.head()"
   ]
  },
  {
   "cell_type": "code",
   "execution_count": 2,
   "metadata": {},
   "outputs": [
    {
     "name": "stdout",
     "output_type": "stream",
     "text": [
      "   Unnamed: 0                                         Input Text  Label  \\\n",
      "0           0  Interviewer: Your plan to implement smart extr...      3   \n",
      "1           1  Interviewer: Given your emphasis on Logistic R...      2   \n",
      "2           2  Interviewer: That's a good approach to content...      4   \n",
      "3           3  Interviewer: Training a Variational Autoencode...      2   \n",
      "4           4  Interviewer: Thanks for taking the time to int...      1   \n",
      "\n",
      "                                            Question  \\\n",
      "0  Your plan to implement smart extraction of phr...   \n",
      "1  Given your emphasis on Logistic Regression for...   \n",
      "2  That's a good approach to content filtering an...   \n",
      "3  Training a Variational Autoencoder (VAE) to ge...   \n",
      "4  Thanks for taking the time to interview with u...   \n",
      "\n",
      "                                            Response  Prediction  \n",
      "0  That's a very good question. So for dashboard ...           3  \n",
      "1  Yeah, initially since we are at the correlatio...           3  \n",
      "2  In web scraping, I have faced multiple challen...           3  \n",
      "3  You could fit a gaussian mixture model to the ...           3  \n",
      "4                                                              3  \n"
     ]
    }
   ],
   "source": [
    "tagger = Tagger()  \n",
    "df = tagger.apply_function_to_df(baby, tagger.simple)\n",
    "\n",
    "print(df.head())"
   ]
  },
  {
   "cell_type": "code",
   "execution_count": 9,
   "metadata": {},
   "outputs": [
    {
     "name": "stdout",
     "output_type": "stream",
     "text": [
      "Loss: 1.3436684608459473\n"
     ]
    }
   ],
   "source": []
  },
  {
   "cell_type": "code",
   "execution_count": null,
   "metadata": {},
   "outputs": [],
   "source": []
  },
  {
   "cell_type": "code",
   "execution_count": null,
   "metadata": {},
   "outputs": [],
   "source": []
  },
  {
   "cell_type": "code",
   "execution_count": null,
   "metadata": {},
   "outputs": [],
   "source": []
  }
 ],
 "metadata": {
  "kernelspec": {
   "display_name": "mercor",
   "language": "python",
   "name": "python3"
  },
  "language_info": {
   "codemirror_mode": {
    "name": "ipython",
    "version": 3
   },
   "file_extension": ".py",
   "mimetype": "text/x-python",
   "name": "python",
   "nbconvert_exporter": "python",
   "pygments_lexer": "ipython3",
   "version": "3.12.4"
  }
 },
 "nbformat": 4,
 "nbformat_minor": 2
}
